{
 "cells": [
  {
   "cell_type": "markdown",
   "metadata": {},
   "source": [
    "# Gendercounter\n",
    "\n",
    "Count the frequency of female and male names and pronouns in texts."
   ]
  },
  {
   "cell_type": "code",
   "execution_count": 25,
   "metadata": {
    "collapsed": true
   },
   "outputs": [],
   "source": [
    "import gendercounter # Just import as usual."
   ]
  },
  {
   "cell_type": "code",
   "execution_count": 26,
   "metadata": {
    "collapsed": true
   },
   "outputs": [],
   "source": [
    "example = \"\"\"Karl och Lisa promenerar på gatan och \n",
    "            tycker om Ove och Stina och Bertil. \n",
    "            Hon, han, hen, henom. Hon hens\"\"\""
   ]
  },
  {
   "cell_type": "markdown",
   "metadata": {},
   "source": [
    "### Usage example 1: initialize a text object from a string"
   ]
  },
  {
   "cell_type": "code",
   "execution_count": 27,
   "metadata": {
    "collapsed": true
   },
   "outputs": [],
   "source": [
    "text = gendercounter.from_string(example)"
   ]
  },
  {
   "cell_type": "code",
   "execution_count": 28,
   "metadata": {},
   "outputs": [
    {
     "data": {
      "text/plain": [
       "{'Men': 3, 'Women': 2}"
      ]
     },
     "execution_count": 28,
     "metadata": {},
     "output_type": "execute_result"
    }
   ],
   "source": [
    "text.genderfrequency()"
   ]
  },
  {
   "cell_type": "code",
   "execution_count": 29,
   "metadata": {},
   "outputs": [
    {
     "data": {
      "text/plain": [
       "{'han': 1,\n",
       " 'hans': 0,\n",
       " 'hen': 1,\n",
       " 'henne': 0,\n",
       " 'hennes': 0,\n",
       " 'henom': 1,\n",
       " 'hens': 1,\n",
       " 'hon': 2,\n",
       " 'honom': 0}"
      ]
     },
     "execution_count": 29,
     "metadata": {},
     "output_type": "execute_result"
    }
   ],
   "source": [
    "text.pronounfrequency()"
   ]
  },
  {
   "cell_type": "markdown",
   "metadata": {},
   "source": [
    "### Usage 2: From a text file"
   ]
  },
  {
   "cell_type": "code",
   "execution_count": 30,
   "metadata": {
    "collapsed": true
   },
   "outputs": [],
   "source": [
    "textfile = gendercounter.from_textfile(\"testtext.txt\")"
   ]
  },
  {
   "cell_type": "code",
   "execution_count": 31,
   "metadata": {},
   "outputs": [
    {
     "data": {
      "text/plain": [
       "{'Men': 15, 'Women': 7}"
      ]
     },
     "execution_count": 31,
     "metadata": {},
     "output_type": "execute_result"
    }
   ],
   "source": [
    "textfile.genderfrequency()"
   ]
  },
  {
   "cell_type": "markdown",
   "metadata": {},
   "source": [
    "### Usage 3: Do both as a single line of code"
   ]
  },
  {
   "cell_type": "code",
   "execution_count": 32,
   "metadata": {},
   "outputs": [
    {
     "data": {
      "text/plain": [
       "{'Men': 43, 'Women': 29}"
      ]
     },
     "execution_count": 32,
     "metadata": {},
     "output_type": "execute_result"
    }
   ],
   "source": [
    "gendercounter.from_textfile(\"testtext2.txt\").genderfrequency()"
   ]
  },
  {
   "cell_type": "markdown",
   "metadata": {},
   "source": [
    "### Usage 4: Iterate over multiple files, example"
   ]
  },
  {
   "cell_type": "code",
   "execution_count": 33,
   "metadata": {},
   "outputs": [
    {
     "name": "stdout",
     "output_type": "stream",
     "text": [
      "testtext2.txt\n",
      "Men 43\n",
      "Women 29\n",
      "han 1\n",
      "henom 0\n",
      "hennes 0\n",
      "henne 0\n",
      "hon 0\n",
      "hen 0\n",
      "honom 0\n",
      "hens 0\n",
      "hans 0\n",
      "----------\n",
      "testtext.txt\n",
      "Men 15\n",
      "Women 7\n",
      "han 1\n",
      "henom 2\n",
      "hennes 2\n",
      "henne 2\n",
      "hon 2\n",
      "hen 2\n",
      "honom 0\n",
      "hens 2\n",
      "hans 0\n",
      "----------\n"
     ]
    }
   ],
   "source": [
    "from os import listdir\n",
    "\n",
    "for file in listdir('.'):\n",
    "    if file.endswith('txt'):\n",
    "        print(file)\n",
    "        for k, v in gendercounter.from_textfile(file).genderfrequency().items():\n",
    "            print(k, v)\n",
    "        for k, v in gendercounter.from_textfile(file).pronounfrequency().items():\n",
    "            print(k, v)\n",
    "        print(\"-\" * 10)"
   ]
  },
  {
   "cell_type": "code",
   "execution_count": null,
   "metadata": {
    "collapsed": true
   },
   "outputs": [],
   "source": []
  }
 ],
 "metadata": {
  "kernelspec": {
   "display_name": "Python [default]",
   "language": "python",
   "name": "python3"
  },
  "language_info": {
   "codemirror_mode": {
    "name": "ipython",
    "version": 3
   },
   "file_extension": ".py",
   "mimetype": "text/x-python",
   "name": "python",
   "nbconvert_exporter": "python",
   "pygments_lexer": "ipython3",
   "version": "3.5.2"
  }
 },
 "nbformat": 4,
 "nbformat_minor": 2
}
